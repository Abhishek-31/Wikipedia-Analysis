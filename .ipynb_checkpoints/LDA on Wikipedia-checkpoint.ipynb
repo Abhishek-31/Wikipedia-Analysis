{
 "cells": [
  {
   "cell_type": "code",
   "execution_count": 1,
   "metadata": {},
   "outputs": [
    {
     "name": "stdout",
     "output_type": "stream",
     "text": [
      "['Narendra Modi', 'Rahul Gandhi', 'Amitabh Bachhan', 'IIT Ropar', 'Indian Institute of Information Technology, Una']\n",
      "['Narendra Modi', 'Rahul Gandhi', 'Amitabh Bachhan', 'IIT Ropar', 'Indian Institute of Information Technology, Una', 'Car', 'Bus']\n"
     ]
    }
   ],
   "source": [
    "import wikipedia\n",
    "#Taking random articles from wikipedia. Instead of this we can also type in manually the ytopics we want to match with.\n",
    "wikipedia_random_articles=['Narendra Modi','Rahul Gandhi','Amitabh Bachhan','IIT Ropar','Indian Institute of Information Technology, Una']\n",
    "# wikipedia_random_articles=wikipedia.random(5)\n",
    "print(wikipedia_random_articles)\n",
    "wikipedia_random_articles.append('Car')\n",
    "wikipedia_random_articles.append('Bus')\n",
    "print(wikipedia_random_articles)\n",
    "wikipedia_articles=[]\n",
    "for wikipedia_article in wikipedia_random_articles:\n",
    "    wikipedia_articles.append([wikipedia_article,str(wikipedia.page(wikipedia_article))])"
   ]
  },
  {
   "cell_type": "code",
   "execution_count": 2,
   "metadata": {},
   "outputs": [
    {
     "name": "stdout",
     "output_type": "stream",
     "text": [
      "[('Narendra Modi', ['wikipediapag', 'narendra', 'modi']), ('Rahul Gandhi', ['wikipediapag', 'rahul', 'gandhi']), ('Amitabh Bachhan', ['wikipediapag', 'amitabh', 'bachchan']), ('IIT Ropar', ['wikipediapag', 'indian', 'institut', 'technolog', 'ropar']), ('Indian Institute of Information Technology, Una', ['wikipediapag', 'indian', 'institut', 'inform', 'technolog', 'una']), ('Car', ['wikipediapag', 'car']), ('Bus', ['wikipediapag', 'bu'])]\n",
      "Abhishek\n"
     ]
    }
   ],
   "source": [
    "from nltk.stem.porter import PorterStemmer\n",
    "from nltk.corpus import stopwords\n",
    "from nltk.tokenize import RegexpTokenizer\n",
    "\n",
    "def clean(article):\n",
    "    title, document = article\n",
    "    tokens = RegexpTokenizer(r'\\w+').tokenize(document.lower())\n",
    "    tokens_clean = [token for token in tokens if token not in stopwords.words('english')]\n",
    "    tokens_stemmed = [PorterStemmer().stem(token) for token in tokens_clean]\n",
    "    return (title, tokens_stemmed)\n",
    "\n",
    "wikipedia_articles_clean = list(map(clean, wikipedia_articles))\n",
    "print(wikipedia_articles_clean)\n",
    "print('Abhishek')"
   ]
  },
  {
   "cell_type": "code",
   "execution_count": 22,
   "metadata": {},
   "outputs": [],
   "source": [
    "from gensim import corpora, models\n",
    "import gensim"
   ]
  },
  {
   "cell_type": "code",
   "execution_count": 23,
   "metadata": {},
   "outputs": [],
   "source": [
    "article_contents = [article[1] for article in wikipedia_articles_clean]\n",
    "dictionary = corpora.Dictionary(article_contents)"
   ]
  },
  {
   "cell_type": "code",
   "execution_count": 24,
   "metadata": {},
   "outputs": [
    {
     "name": "stdout",
     "output_type": "stream",
     "text": [
      "[(0, '0.240*\"wikipediapag\" + 0.240*\"car\" + 0.040*\"bachchan\"'), (1, '0.213*\"wikipediapag\" + 0.080*\"inform\" + 0.080*\"una\"'), (2, '0.200*\"wikipediapag\" + 0.109*\"technolog\" + 0.109*\"institut\"'), (3, '0.067*\"wikipediapag\" + 0.067*\"bachchan\" + 0.067*\"amitabh\"'), (4, '0.067*\"wikipediapag\" + 0.067*\"bachchan\" + 0.067*\"amitabh\"')]\n",
      "\n",
      "Bus\n",
      "[[(0, 0.72602123), (1, 0.06827073), (2, 0.0682388), (3, 0.068736844), (4, 0.068732426)]]\n"
     ]
    }
   ],
   "source": [
    "corpus = [dictionary.doc2bow(article) for article in article_contents[:-1]] # All except 'Bus'\n",
    "lda_model = gensim.models.ldamodel.LdaModel(corpus, num_topics=5, id2word = dictionary, passes=100)\n",
    "print(lda_model.print_topics(num_topics=5, num_words=3))\n",
    "\n",
    "# Bus\n",
    "print('\\nBus')\n",
    "print( list( lda_model[ [dictionary.doc2bow(article_contents[-1])] ]) )"
   ]
  },
  {
   "cell_type": "code",
   "execution_count": null,
   "metadata": {},
   "outputs": [],
   "source": []
  }
 ],
 "metadata": {
  "kernelspec": {
   "display_name": "Python 3",
   "language": "python",
   "name": "python3"
  },
  "language_info": {
   "codemirror_mode": {
    "name": "ipython",
    "version": 3
   },
   "file_extension": ".py",
   "mimetype": "text/x-python",
   "name": "python",
   "nbconvert_exporter": "python",
   "pygments_lexer": "ipython3",
   "version": "3.7.3"
  }
 },
 "nbformat": 4,
 "nbformat_minor": 2
}
