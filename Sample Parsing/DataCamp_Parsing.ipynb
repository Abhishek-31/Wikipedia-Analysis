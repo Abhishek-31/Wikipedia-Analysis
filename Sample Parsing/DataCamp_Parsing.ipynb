{
 "cells": [
  {
   "cell_type": "code",
   "execution_count": 6,
   "metadata": {},
   "outputs": [
    {
     "name": "stdout",
     "output_type": "stream",
     "text": [
      "collection\n"
     ]
    }
   ],
   "source": [
    "import xml.etree.ElementTree as ET\n",
    "tree=ET.parse(\"file.xml\")\n",
    "root=tree.getroot() \n",
    "print(root.tag) #root.tag tells the tag name of root element.\n",
    "#While copy pasting at many points, quotes become something else and that's why parsing doesn't take place/ So at the time of copying and pasting, pay focus.\n"
   ]
  },
  {
   "cell_type": "code",
   "execution_count": 7,
   "metadata": {},
   "outputs": [
    {
     "data": {
      "text/plain": [
       "{}"
      ]
     },
     "execution_count": 7,
     "metadata": {},
     "output_type": "execute_result"
    }
   ],
   "source": [
    "root.attrib #This will return the dictionary of attributes of any given tag\n",
    "# THis is not a function."
   ]
  },
  {
   "cell_type": "code",
   "execution_count": 10,
   "metadata": {},
   "outputs": [
    {
     "name": "stdout",
     "output_type": "stream",
     "text": [
      "genre {'category': 'Action'}\n",
      "genre {'category': 'Thriller'}\n",
      "genre {'category': 'Comedy'}\n"
     ]
    }
   ],
   "source": [
    "for child in root:\n",
    "    print(child.tag,child.attrib)"
   ]
  },
  {
   "cell_type": "code",
   "execution_count": 11,
   "metadata": {},
   "outputs": [],
   "source": [
    "#These attributes are used so as to distinguish between various genres.\n"
   ]
  },
  {
   "cell_type": "code",
   "execution_count": 12,
   "metadata": {},
   "outputs": [
    {
     "name": "stdout",
     "output_type": "stream",
     "text": [
      "collection\n",
      "genre\n",
      "decade\n",
      "movie\n",
      "format\n",
      "year\n",
      "rating\n",
      "description\n",
      "movie\n",
      "format\n",
      "year\n",
      "rating\n",
      "description\n",
      "movie\n",
      "format\n",
      "year\n",
      "rating\n",
      "description\n",
      "decade\n",
      "movie\n",
      "format\n",
      "year\n",
      "rating\n",
      "description\n",
      "movie\n",
      "format\n",
      "year\n",
      "rating\n",
      "description\n",
      "movie\n",
      "format\n",
      "year\n",
      "rating\n",
      "description\n",
      "genre\n",
      "decade\n",
      "movie\n",
      "format\n",
      "year\n",
      "rating\n",
      "description\n",
      "decade\n",
      "movie\n",
      "format\n",
      "year\n",
      "rating\n",
      "description\n",
      "movie\n",
      "format\n",
      "year\n",
      "rating\n",
      "description\n",
      "genre\n",
      "decade\n",
      "movie\n",
      "format\n",
      "year\n",
      "rating\n",
      "description\n",
      "decade\n",
      "movie\n",
      "format\n",
      "year\n",
      "rating\n",
      "description\n",
      "movie\n",
      "format\n",
      "year\n",
      "rating\n",
      "description\n",
      "decade\n",
      "movie\n",
      "format\n",
      "year\n",
      "rating\n",
      "description\n",
      "decade\n",
      "movie\n",
      "format\n",
      "year\n",
      "rating\n",
      "description\n"
     ]
    }
   ],
   "source": [
    "for i in root.iter():\n",
    "    print(i.tag)"
   ]
  },
  {
   "cell_type": "code",
   "execution_count": 13,
   "metadata": {},
   "outputs": [
    {
     "name": "stdout",
     "output_type": "stream",
     "text": [
      "['collection', 'genre', 'decade', 'movie', 'format', 'year', 'rating', 'description', 'movie', 'format', 'year', 'rating', 'description', 'movie', 'format', 'year', 'rating', 'description', 'decade', 'movie', 'format', 'year', 'rating', 'description', 'movie', 'format', 'year', 'rating', 'description', 'movie', 'format', 'year', 'rating', 'description', 'genre', 'decade', 'movie', 'format', 'year', 'rating', 'description', 'decade', 'movie', 'format', 'year', 'rating', 'description', 'movie', 'format', 'year', 'rating', 'description', 'genre', 'decade', 'movie', 'format', 'year', 'rating', 'description', 'decade', 'movie', 'format', 'year', 'rating', 'description', 'movie', 'format', 'year', 'rating', 'description', 'decade', 'movie', 'format', 'year', 'rating', 'description', 'decade', 'movie', 'format', 'year', 'rating', 'description']\n"
     ]
    }
   ],
   "source": [
    "print([i.tag for i in root.iter()])"
   ]
  },
  {
   "cell_type": "code",
   "execution_count": 15,
   "metadata": {},
   "outputs": [
    {
     "name": "stdout",
     "output_type": "stream",
     "text": [
      "<?xml version='1.0' encoding='utf8'?>\n",
      "<collection>\n",
      "    <genre category=\"Action\">\n",
      "        <decade years=\"1980s\">\n",
      "            <movie favorite=\"True\" title=\"Indiana Jones: The raiders of the lost Ark\">\n",
      "                <format multiple=\"No\">DVD</format>\n",
      "                <year>1981</year>\n",
      "                <rating>PG</rating>\n",
      "                <description>\n",
      "                'Archaeologist and adventurer Indiana Jones \n",
      "                is hired by the U.S. government to find the Ark of the \n",
      "                Covenant before the Nazis.'\n",
      "                </description>\n",
      "            </movie>\n",
      "               <movie favorite=\"True\" title=\"THE KARATE KID\">\n",
      "               <format multiple=\"Yes\">DVD,Online</format>\n",
      "               <year>1984</year>\n",
      "               <rating>PG</rating>\n",
      "               <description>None provided.</description>\n",
      "            </movie>\n",
      "            <movie favorite=\"False\" title=\"Back 2 the Future\">\n",
      "               <format multiple=\"False\">Blu-ray</format>\n",
      "               <year>1985</year>\n",
      "               <rating>PG</rating>\n",
      "               <description>Marty McFly</description>\n",
      "            </movie>\n",
      "        </decade>\n",
      "        <decade years=\"1990s\">\n",
      "            <movie favorite=\"False\" title=\"X-Men\">\n",
      "               <format multiple=\"Yes\">dvd, digital</format>\n",
      "               <year>2000</year>\n",
      "               <rating>PG-13</rating>\n",
      "               <description>Two mutants come to a private academy for their kind whose resident superhero team must \n",
      "               oppose a terrorist organization with similar powers.</description>\n",
      "            </movie>\n",
      "            <movie favorite=\"True\" title=\"Batman Returns\">\n",
      "               <format multiple=\"No\">VHS</format>\n",
      "               <year>1992</year>\n",
      "               <rating>PG13</rating>\n",
      "               <description>NA.</description>\n",
      "            </movie>\n",
      "               <movie favorite=\"False\" title=\"Reservoir Dogs\">\n",
      "               <format multiple=\"No\">Online</format>\n",
      "               <year>1992</year>\n",
      "               <rating>R</rating>\n",
      "               <description>WhAtEvER I Want!!!?!</description>\n",
      "            </movie>\n",
      "        </decade>    \n",
      "    </genre>\n",
      "\n",
      "    <genre category=\"Thriller\">\n",
      "        <decade years=\"1970s\">\n",
      "            <movie favorite=\"False\" title=\"ALIEN\">\n",
      "                <format multiple=\"Yes\">DVD</format>\n",
      "                <year>1979</year>\n",
      "                <rating>R</rating>\n",
      "                <description>\"\"\"\"\"\"\"\"\"</description>\n",
      "            </movie>\n",
      "        </decade>\n",
      "        <decade years=\"1980s\">\n",
      "            <movie favorite=\"True\" title=\"Ferris Bueller's Day Off\">\n",
      "                <format multiple=\"No\">DVD</format>\n",
      "                <year>1986</year>\n",
      "                <rating>PG13</rating>\n",
      "                <description>Funny movie about a funny guy</description>\n",
      "            </movie>\n",
      "            <movie favorite=\"FALSE\" title=\"American Psycho\">\n",
      "                <format multiple=\"No\">blue-ray</format>\n",
      "                <year>2000</year>\n",
      "                <rating>Unrated</rating>\n",
      "                <description>psychopathic Bateman</description>\n",
      "            </movie>\n",
      "        </decade>\n",
      "    </genre>\n",
      "\n",
      "    <genre category=\"Comedy\">\n",
      "        <decade years=\"1960s\">\n",
      "            <movie favorite=\"False\" title=\"Batman: The Movie\">\n",
      "                <format multiple=\"Yes\">DVD,VHS</format>\n",
      "                <year>1966</year>\n",
      "                <rating>PG</rating>\n",
      "                <description>What a joke!</description>\n",
      "            </movie>\n",
      "        </decade>\n",
      "        <decade years=\"2010s\">\n",
      "            <movie favorite=\"True\" title=\"Easy A\">\n",
      "                <format multiple=\"No\">DVD</format>\n",
      "                <year>2010</year>\n",
      "                <rating>PG--13</rating>\n",
      "                <description>Emma Stone = Hester Prynne</description>\n",
      "            </movie>\n",
      "            <movie favorite=\"True\" title=\"Dinner for SCHMUCKS\">\n",
      "                <format multiple=\"Yes\">DVD,digital,Netflix</format>\n",
      "                <year>2011</year>\n",
      "                <rating>Unrated</rating>\n",
      "                <description>Tim (Rudd) is a rising executive who succeeds in finding the perfect guest, \n",
      "                 IRS employee Barry (Carell), for his boss' monthly event, \n",
      "                 a so-called dinner for idiots, which offers certain \n",
      "                 advantages to the exec who shows up with the biggest buffoon.\n",
      "                 </description>\n",
      "            </movie>\n",
      "        </decade>\n",
      "        <decade years=\"1980s\">\n",
      "            <movie favorite=\"False\" title=\"Ghostbusters\">\n",
      "                <format multiple=\"No\">Online,VHS</format>\n",
      "                <year>1984</year>\n",
      "                <rating>PG</rating>\n",
      "                <description>Who ya gonna call?</description>\n",
      "            </movie>\n",
      "        </decade>\n",
      "        <decade years=\"1990s\">\n",
      "            <movie favorite=\"True\" title=\"Robin Hood: Prince of Thieves\">\n",
      "                <format multiple=\"No\">Blu_Ray</format>\n",
      "                <year>1991</year>\n",
      "                <rating>Unknown</rating>\n",
      "                <description>Robin Hood slaying</description>\n",
      "            </movie>\n",
      "        </decade>\n",
      "    </genre>\n",
      "</collection>\n"
     ]
    }
   ],
   "source": [
    "#To have complete file again, we can use .tostring() function.\n",
    "print(ET.tostring(root,encoding='utf8').decode('utf8'))\n",
    "#As element tree does more than just xml, we hae to use encoding and decoding functionalities."
   ]
  },
  {
   "cell_type": "code",
   "execution_count": 87,
   "metadata": {
    "scrolled": true
   },
   "outputs": [
    {
     "name": "stdout",
     "output_type": "stream",
     "text": [
      "Back to the Future\n",
      "X-Men\n",
      "Reservoir Dogs\n",
      "ALIEN\n",
      "Batman: The Movie\n",
      "Ghostbusters\n"
     ]
    }
   ],
   "source": [
    "# Now for iterating for a particular element in complete document we can modify the use root.iter function and through this way we can eatch all the repective elements having that name.\n",
    "for movie in root.iter('movie'):\n",
    "#     print(movie.tag, movie.attrib)\n",
    "    if(movie.attrib['favorite']=='False'):\n",
    "        print(movie.attrib['title'])"
   ]
  },
  {
   "cell_type": "code",
   "execution_count": 21,
   "metadata": {},
   "outputs": [
    {
     "name": "stdout",
     "output_type": "stream",
     "text": [
      "\n",
      "                'Archaeologist and adventurer Indiana Jones \n",
      "                is hired by the U.S. government to find the Ark of the \n",
      "                Covenant before the Nazis.'\n",
      "                \n",
      "None provided.\n",
      "Marty McFly\n",
      "Two mutants come to a private academy for their kind whose resident superhero team must \n",
      "               oppose a terrorist organization with similar powers.\n",
      "NA.\n",
      "WhAtEvER I Want!!!?!\n",
      "\"\"\"\"\"\"\"\"\"\n",
      "Funny movie about a funny guy\n",
      "psychopathic Bateman\n",
      "What a joke!\n",
      "Emma Stone = Hester Prynne\n",
      "Tim (Rudd) is a rising executive who succeeds in finding the perfect guest, \n",
      "                 IRS employee Barry (Carell), for his boss' monthly event, \n",
      "                 a so-called dinner for idiots, which offers certain \n",
      "                 advantages to the exec who shows up with the biggest buffoon.\n",
      "                 \n",
      "Who ya gonna call?\n",
      "Robin Hood slaying\n"
     ]
    }
   ],
   "source": [
    "for description in root.iter('description'):\n",
    "    print(description.text)"
   ]
  },
  {
   "cell_type": "code",
   "execution_count": 88,
   "metadata": {},
   "outputs": [
    {
     "name": "stdout",
     "output_type": "stream",
     "text": [
      "Batman Returns\n",
      "Reservoir Dogs\n",
      "movie\n",
      "format\n",
      "year\n",
      "rating\n",
      "description\n",
      "movie\n",
      "format\n",
      "year\n",
      "rating\n",
      "description\n",
      "\n",
      "\n",
      "DVD,Online\n",
      "dvd, digital\n",
      "DVD\n",
      "DVD,VHS\n",
      "DVD,digital,Netflix\n",
      "\n",
      "\n",
      "THE KARATE KID\n",
      "X-Men\n",
      "ALIEN\n",
      "Batman: The Movie\n",
      "Dinner for SCHMUCKS\n"
     ]
    }
   ],
   "source": [
    "#Using XPATH in Parsing\n",
    "#This is used to designate every element in the form of hierarchy inside .findall() element.\n",
    "for movie in root.findall(\"./genre/decade/movie/[year='1992']\"):\n",
    "    print(movie.attrib['title'])\n",
    "    #THis is the way by which you can check whether the year property inside movie is 1992 or not.\n",
    "for movie in root.findall(\"./genre/decade/movie/[year='1992']\"):\n",
    "    for disk in movie.iter():\n",
    "        print(disk.tag)\n",
    "print()\n",
    "print()\n",
    "#While using square brackets, you \n",
    "        #Traversing all the sub properties of movies whose year property is 1992.\n",
    "# WHatever is writtern in square brackets means that the pointer has not moved. It just knows what all is present afterwards.\n",
    "# Example the pointer in first loop is just till movie and it can traverse the movies tags.\n",
    "#Now what if we want to check any attribute, then we use @ keyword. Example.\n",
    "for movie in root.findall(\"./genre/decade/movie/format[@multiple='Yes']\"):\n",
    "    print(movie.text)\n",
    "print()\n",
    "print()\n",
    "for movie in root.findall(\"./genre/decade/movie/format[@multiple='Yes']...\"):\n",
    "    print(movie.attrib['title'])\n",
    "    #This is because we have reached format part of movie. Now if we want to move back we can use '...' so as to go back one level."
   ]
  },
  {
   "cell_type": "code",
   "execution_count": 109,
   "metadata": {},
   "outputs": [
    {
     "name": "stdout",
     "output_type": "stream",
     "text": [
      "{'favorite': 'True', 'title': 'Indiana Jones: The raiders of the lost Ark'}\n",
      "{'favorite': 'True', 'title': 'The Karate Kid'}\n",
      "{'favorite': 'False', 'title': 'Back to the Future'}\n",
      "{'favorite': 'False', 'title': 'X-Men'}\n",
      "{'favorite': 'True', 'title': 'Batman Returns'}\n",
      "{'favorite': 'False', 'title': 'Reservoir Dogs'}\n",
      "{'favorite': 'False', 'title': 'ALIEN'}\n",
      "{'favorite': 'True', 'title': \"Ferris Bueller's Day Off\"}\n",
      "{'favorite': 'FALSE', 'title': 'American Psycho'}\n",
      "{'favorite': 'False', 'title': 'Batman: The Movie'}\n",
      "{'favorite': 'True', 'title': 'Easy A'}\n",
      "{'favorite': 'True', 'title': 'Dinner for SCHMUCKS'}\n",
      "{'favorite': 'False', 'title': 'Ghostbusters'}\n",
      "{'favorite': 'True', 'title': 'Robin Hood: Prince of Thieves'}\n",
      "<Element 'movie' at 0x7f07c09f8e58>\n",
      "{'favorite': 'True', 'title': 'The Karate KID'}\n",
      "{'favorite': 'True', 'title': 'Robin Hood: Prince of Thieves'}\n",
      "{'favorite': 'True', 'title': 'Robin Hood: Prince of Thieves'}\n",
      "{'favorite': 'True', 'title': 'Robin Hood: Prince of Thieves'}\n",
      "{'favorite': 'True', 'title': 'Robin Hood: Prince of Thieves'}\n",
      "{'favorite': 'True', 'title': 'Robin Hood: Prince of Thieves'}\n",
      "{'favorite': 'True', 'title': 'Robin Hood: Prince of Thieves'}\n",
      "{'favorite': 'True', 'title': 'Robin Hood: Prince of Thieves'}\n",
      "{'favorite': 'True', 'title': 'Robin Hood: Prince of Thieves'}\n",
      "{'favorite': 'True', 'title': 'Robin Hood: Prince of Thieves'}\n",
      "{'favorite': 'True', 'title': 'Robin Hood: Prince of Thieves'}\n",
      "{'favorite': 'True', 'title': 'Robin Hood: Prince of Thieves'}\n",
      "{'favorite': 'True', 'title': 'Robin Hood: Prince of Thieves'}\n",
      "{'favorite': 'True', 'title': 'Robin Hood: Prince of Thieves'}\n",
      "{'favorite': 'True', 'title': 'Robin Hood: Prince of Thieves'}\n",
      "movie\n",
      "format\n",
      "year\n",
      "rating\n",
      "description\n"
     ]
    }
   ],
   "source": [
    "# Editing XML Document:\n",
    "for movie in root.iter('movie'):\n",
    "        print(movie.attrib)\n",
    "btk=root.find(\"./genre/decade/movie[@title='The Karate Kid']\")\n",
    "print(btk)\n",
    "btk.attrib['title']=\"The Karate KID\"\n",
    "print(btk.attrib)\n",
    "#For permanently writing in that file.\n",
    "tree.write(\"file.xml\")\n",
    "tree= ET.parse(\"file.xml\")\n",
    "root=tree.getroot()\n",
    "for movies in root.iter(\"movie\"):\n",
    "    print(movie.attrib)\n",
    "#.find() function retuns an eement of the tree.\n",
    "for i in btk.iter():\n",
    "    print(i.tag)\n",
    "# for i in root:\n",
    "#     if(i.tag==\"genre\"):\n",
    "#         print([j.tag for j in i.iter()])\n",
    "# prin`t(btk.attrib)\n",
    "# btk.attrib[\"title\"]=\"Back to the Future\"\n",
    "# print(btk.attrib[\"title\"])"
   ]
  },
  {
   "cell_type": "code",
   "execution_count": 113,
   "metadata": {},
   "outputs": [
    {
     "name": "stdout",
     "output_type": "stream",
     "text": [
      "{'multiple': 'No'} DVD\n",
      "{'multiple': 'Yes'} DVD,Online\n",
      "{'multiple': 'No'} Blu-ray\n",
      "{'multiple': 'Yes'} dvd, digital\n",
      "{'multiple': 'No'} VHS\n",
      "{'multiple': 'No'} Online\n",
      "{'multiple': 'No'} DVD\n",
      "{'multiple': 'No'} DVD\n",
      "{'multiple': 'No'} blue-ray\n",
      "{'multiple': 'Yes'} DVD,VHS\n",
      "{'multiple': 'No'} DVD\n",
      "{'multiple': 'Yes'} DVD,digital,Netflix\n",
      "{'multiple': 'Yes'} Online,VHS\n",
      "{'multiple': 'No'} Blu_Ray\n",
      "{'multiple': 'No'} DVD\n",
      "{'multiple': 'Yes'} DVD,Online\n",
      "{'multiple': 'No'} Blu-ray\n",
      "{'multiple': 'Yes'} dvd, digital\n",
      "{'multiple': 'No'} VHS\n",
      "{'multiple': 'No'} Online\n",
      "{'multiple': 'No'} DVD\n",
      "{'multiple': 'No'} DVD\n",
      "{'multiple': 'No'} blue-ray\n",
      "{'multiple': 'Yes'} DVD,VHS\n",
      "{'multiple': 'No'} DVD\n",
      "{'multiple': 'Yes'} DVD,digital,Netflix\n",
      "{'multiple': 'Yes'} Online,VHS\n",
      "{'multiple': 'No'} Blu_Ray\n"
     ]
    }
   ],
   "source": [
    "import re\n",
    "for form in root.findall(\"./genre/decade/movie/format\"):\n",
    "    print(form.attrib,form.text)\n",
    "    str=form.text\n",
    "    match=re.search(',',str)\n",
    "    if match:\n",
    "        form.set('multiple','Yes')\n",
    "        #Set is used to add or modify various atributes.\n",
    "    else:\n",
    "        form.set('multiple','No')\n",
    "for form in root.findall(\"./genre/decade/movie/format\"):\n",
    "    print(form.attrib,form.text)"
   ]
  },
  {
   "cell_type": "code",
   "execution_count": 114,
   "metadata": {},
   "outputs": [
    {
     "name": "stdout",
     "output_type": "stream",
     "text": [
      "{'years': '1980s'}\n",
      "1981\n",
      "1984\n",
      "1985\n",
      "{'years': '1990s'}\n",
      "2000\n",
      "1992\n",
      "1992\n",
      "{'years': '1970s'}\n",
      "1979\n",
      "{'years': '1980s'}\n",
      "1986\n",
      "2000\n",
      "{'years': '1960s'}\n",
      "1966\n",
      "{'years': '2010s'}\n",
      "2010\n",
      "2011\n",
      "{'years': '1980s'}\n",
      "1984\n",
      "{'years': '1990s'}\n",
      "1991\n"
     ]
    }
   ],
   "source": [
    "for form in root.findall('./genre/decade'):\n",
    "    print(form.attrib)\n",
    "    for movies in form.findall(\"./movie/year\"):\n",
    "        print(movies.text)\n",
    "    "
   ]
  },
  {
   "cell_type": "code",
   "execution_count": 123,
   "metadata": {},
   "outputs": [
    {
     "name": "stdout",
     "output_type": "stream",
     "text": [
      "X-Men\n",
      "American Psycho\n",
      "<?xml version='1.0' encoding='utf8'?>\n",
      "<genre category=\"Action\">\n",
      "        <decade years=\"1980s\">\n",
      "            <movie favorite=\"True\" title=\"Indiana Jones: The raiders of the lost Ark\">\n",
      "                <format multiple=\"No\">DVD</format>\n",
      "                <year>1981</year>\n",
      "                <rating>PG</rating>\n",
      "                <description>\n",
      "                'Archaeologist and adventurer Indiana Jones \n",
      "                is hired by the U.S. government to find the Ark of the \n",
      "                Covenant before the Nazis.'\n",
      "                </description>\n",
      "            </movie>\n",
      "               <movie favorite=\"True\" title=\"The Karate KID\">\n",
      "               <format multiple=\"Yes\">DVD,Online</format>\n",
      "               <year>1984</year>\n",
      "               <rating>PG</rating>\n",
      "               <description>None provided.</description>\n",
      "            </movie>\n",
      "            <movie favorite=\"False\" title=\"Back to the Future\">\n",
      "               <format multiple=\"No\">Blu-ray</format>\n",
      "               <year>1985</year>\n",
      "               <rating>PG</rating>\n",
      "               <description>Marty McFly</description>\n",
      "            </movie>\n",
      "        </decade>\n",
      "        <decade years=\"1990s\">\n",
      "            <movie favorite=\"False\" title=\"X-Men\">\n",
      "               <format multiple=\"Yes\">dvd, digital</format>\n",
      "               <year>2000</year>\n",
      "               <rating>PG-13</rating>\n",
      "               <description>Two mutants come to a private academy for their kind whose resident superhero team must \n",
      "               oppose a terrorist organization with similar powers.</description>\n",
      "            </movie>\n",
      "            <movie favorite=\"True\" title=\"Batman Returns\">\n",
      "               <format multiple=\"No\">VHS</format>\n",
      "               <year>1992</year>\n",
      "               <rating>PG13</rating>\n",
      "               <description>NA.</description>\n",
      "            </movie>\n",
      "               <movie favorite=\"False\" title=\"Reservoir Dogs\">\n",
      "               <format multiple=\"No\">Online</format>\n",
      "               <year>1992</year>\n",
      "               <rating>R</rating>\n",
      "               <description>WhAtEvER I Want!!!?!</description>\n",
      "            </movie>\n",
      "        </decade>    \n",
      "    <decade years=\"2000s\" /></genre>\n",
      "\n",
      "    \n"
     ]
    }
   ],
   "source": [
    "for a in root.findall(\"./genre/decade/movie[year='2000']\"):\n",
    "    print(a.attrib['title'])\n",
    "action = root.find(\"./genre[@category='Action']\")\n",
    "new_dec=ET.SubElement(action,'decade')\n",
    "new_dec.attrib[\"years\"]='2000s'\n",
    "print(ET.tostring(action,encoding='utf8').decode('utf8'))\n"
   ]
  },
  {
   "cell_type": "code",
   "execution_count": 129,
   "metadata": {},
   "outputs": [
    {
     "ename": "ValueError",
     "evalue": "list.remove(x): x not in list",
     "output_type": "error",
     "traceback": [
      "\u001b[0;31m---------------------------------------------------------------------------\u001b[0m",
      "\u001b[0;31mValueError\u001b[0m                                Traceback (most recent call last)",
      "\u001b[0;32m<ipython-input-129-9c82f3113491>\u001b[0m in \u001b[0;36m<module>\u001b[0;34m\u001b[0m\n\u001b[1;32m      3\u001b[0m \u001b[0mdec\u001b[0m\u001b[0;34m.\u001b[0m\u001b[0mappend\u001b[0m\u001b[0;34m(\u001b[0m\u001b[0mxmen\u001b[0m\u001b[0;34m)\u001b[0m\u001b[0;34m\u001b[0m\u001b[0;34m\u001b[0m\u001b[0m\n\u001b[1;32m      4\u001b[0m \u001b[0mdec\u001b[0m\u001b[0;34m=\u001b[0m\u001b[0mroot\u001b[0m\u001b[0;34m.\u001b[0m\u001b[0mfind\u001b[0m\u001b[0;34m(\u001b[0m\u001b[0;34m\"./genre[@category='Action']/decade[@years='1990s']\"\u001b[0m\u001b[0;34m)\u001b[0m\u001b[0;34m\u001b[0m\u001b[0;34m\u001b[0m\u001b[0m\n\u001b[0;32m----> 5\u001b[0;31m \u001b[0mdec\u001b[0m\u001b[0;34m.\u001b[0m\u001b[0mremove\u001b[0m\u001b[0;34m(\u001b[0m\u001b[0mxmen\u001b[0m\u001b[0;34m)\u001b[0m\u001b[0;34m\u001b[0m\u001b[0;34m\u001b[0m\u001b[0m\n\u001b[0m\u001b[1;32m      6\u001b[0m \u001b[0mprint\u001b[0m\u001b[0;34m(\u001b[0m\u001b[0mET\u001b[0m\u001b[0;34m.\u001b[0m\u001b[0mtostring\u001b[0m\u001b[0;34m(\u001b[0m\u001b[0maction\u001b[0m\u001b[0;34m,\u001b[0m\u001b[0mencoding\u001b[0m\u001b[0;34m=\u001b[0m\u001b[0;34m'utf8'\u001b[0m\u001b[0;34m)\u001b[0m\u001b[0;34m.\u001b[0m\u001b[0mdecode\u001b[0m\u001b[0;34m(\u001b[0m\u001b[0;34m'utf8'\u001b[0m\u001b[0;34m)\u001b[0m\u001b[0;34m)\u001b[0m\u001b[0;34m\u001b[0m\u001b[0;34m\u001b[0m\u001b[0m\n",
      "\u001b[0;31mValueError\u001b[0m: list.remove(x): x not in list"
     ]
    }
   ],
   "source": [
    "xmen=root.find(\"./genre/decade/movie[@title='X-Men']\")\n",
    "dec=root.find(\"./genre[@category='Action']/decade[@years='2000s']\")\n",
    "dec.append(xmen)\n",
    "dec=root.find(\"./genre[@category='Action']/decade[@years='1990s']\")\n",
    "dec.remove(xmen)\n"
   ]
  },
  {
   "cell_type": "code",
   "execution_count": 130,
   "metadata": {},
   "outputs": [
    {
     "name": "stdout",
     "output_type": "stream",
     "text": [
      "<?xml version='1.0' encoding='utf8'?>\n",
      "<genre category=\"Action\">\n",
      "        <decade years=\"1980s\">\n",
      "            <movie favorite=\"True\" title=\"Indiana Jones: The raiders of the lost Ark\">\n",
      "                <format multiple=\"No\">DVD</format>\n",
      "                <year>1981</year>\n",
      "                <rating>PG</rating>\n",
      "                <description>\n",
      "                'Archaeologist and adventurer Indiana Jones \n",
      "                is hired by the U.S. government to find the Ark of the \n",
      "                Covenant before the Nazis.'\n",
      "                </description>\n",
      "            </movie>\n",
      "               <movie favorite=\"True\" title=\"The Karate KID\">\n",
      "               <format multiple=\"Yes\">DVD,Online</format>\n",
      "               <year>1984</year>\n",
      "               <rating>PG</rating>\n",
      "               <description>None provided.</description>\n",
      "            </movie>\n",
      "            <movie favorite=\"False\" title=\"Back to the Future\">\n",
      "               <format multiple=\"No\">Blu-ray</format>\n",
      "               <year>1985</year>\n",
      "               <rating>PG</rating>\n",
      "               <description>Marty McFly</description>\n",
      "            </movie>\n",
      "        </decade>\n",
      "        <decade years=\"1990s\">\n",
      "            <movie favorite=\"True\" title=\"Batman Returns\">\n",
      "               <format multiple=\"No\">VHS</format>\n",
      "               <year>1992</year>\n",
      "               <rating>PG13</rating>\n",
      "               <description>NA.</description>\n",
      "            </movie>\n",
      "               <movie favorite=\"False\" title=\"Reservoir Dogs\">\n",
      "               <format multiple=\"No\">Online</format>\n",
      "               <year>1992</year>\n",
      "               <rating>R</rating>\n",
      "               <description>WhAtEvER I Want!!!?!</description>\n",
      "            </movie>\n",
      "        </decade>    \n",
      "    <decade years=\"2000s\"><movie favorite=\"False\" title=\"X-Men\">\n",
      "               <format multiple=\"Yes\">dvd, digital</format>\n",
      "               <year>2000</year>\n",
      "               <rating>PG-13</rating>\n",
      "               <description>Two mutants come to a private academy for their kind whose resident superhero team must \n",
      "               oppose a terrorist organization with similar powers.</description>\n",
      "            </movie>\n",
      "            <movie favorite=\"False\" title=\"X-Men\">\n",
      "               <format multiple=\"Yes\">dvd, digital</format>\n",
      "               <year>2000</year>\n",
      "               <rating>PG-13</rating>\n",
      "               <description>Two mutants come to a private academy for their kind whose resident superhero team must \n",
      "               oppose a terrorist organization with similar powers.</description>\n",
      "            </movie>\n",
      "            </decade></genre>\n",
      "\n",
      "    \n"
     ]
    }
   ],
   "source": [
    "print(ET.tostring(action,encoding='utf8').decode('utf8'))"
   ]
  },
  {
   "cell_type": "code",
   "execution_count": null,
   "metadata": {},
   "outputs": [],
   "source": []
  }
 ],
 "metadata": {
  "kernelspec": {
   "display_name": "Python 3",
   "language": "python",
   "name": "python3"
  },
  "language_info": {
   "codemirror_mode": {
    "name": "ipython",
    "version": 3
   },
   "file_extension": ".py",
   "mimetype": "text/x-python",
   "name": "python",
   "nbconvert_exporter": "python",
   "pygments_lexer": "ipython3",
   "version": "3.7.1"
  }
 },
 "nbformat": 4,
 "nbformat_minor": 2
}
